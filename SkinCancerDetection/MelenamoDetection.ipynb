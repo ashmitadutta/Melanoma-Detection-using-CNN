{
 "cells": [
  {
   "cell_type": "code",
   "execution_count": 0,
   "metadata": {
    "colab": {},
    "colab_type": "code",
    "collapsed": true,
    "id": "AgBwX4wPj5aW"
   },
   "outputs": [],
   "source": [
    "%matplotlib inline\n",
    "import matplotlib.pyplot as plt\n",
    "import numpy as np\n",
    "import pandas as pd\n",
    "import os\n",
    "from glob import glob\n",
    "import seaborn as sns\n",
    "from PIL import Image\n",
    "np.random.seed(123)\n",
    "from sklearn.preprocessing import label_binarize\n",
    "from sklearn.metrics import confusion_matrix\n",
    "import itertools\n",
    "\n",
    "import keras\n",
    "from keras.utils.np_utils import to_categorical # used for converting labels to one-hot-encoding\n",
    "from keras.models import Sequential\n",
    "from keras.layers import Dense, Dropout, Flatten, Conv2D, MaxPool2D\n",
    "from keras import backend as K\n",
    "import itertools\n",
    "from keras.layers.normalization import BatchNormalization\n",
    "from keras.utils.np_utils import to_categorical # convert to one-hot-encoding\n",
    "\n",
    "from keras.optimizers import Adam\n",
    "from keras.preprocessing.image import ImageDataGenerator\n",
    "from keras.callbacks import ReduceLROnPlateau\n",
    "from sklearn.model_selection import train_test_split"
   ]
  },
  {
   "cell_type": "code",
   "execution_count": 0,
   "metadata": {
    "colab": {},
    "colab_type": "code",
    "collapsed": true,
    "id": "WhqDTj6V-ini"
   },
   "outputs": [],
   "source": [
    "meta_data = pd.read_csv(\"drive/My Drive/input/skincancer_metadata.csv\")"
   ]
  },
  {
   "cell_type": "code",
   "execution_count": 0,
   "metadata": {
    "colab": {
     "base_uri": "https://localhost:8080/",
     "height": 206
    },
    "colab_type": "code",
    "id": "mdJpTSX7-9Xo",
    "outputId": "15b8d5fa-8598-4534-deaf-c0f50c8eca29"
   },
   "outputs": [
    {
     "data": {
      "text/html": [
       "<div>\n",
       "<style scoped>\n",
       "    .dataframe tbody tr th:only-of-type {\n",
       "        vertical-align: middle;\n",
       "    }\n",
       "\n",
       "    .dataframe tbody tr th {\n",
       "        vertical-align: top;\n",
       "    }\n",
       "\n",
       "    .dataframe thead th {\n",
       "        text-align: right;\n",
       "    }\n",
       "</style>\n",
       "<table border=\"1\" class=\"dataframe\">\n",
       "  <thead>\n",
       "    <tr style=\"text-align: right;\">\n",
       "      <th></th>\n",
       "      <th>lesion_id</th>\n",
       "      <th>image_id</th>\n",
       "      <th>dx</th>\n",
       "      <th>dx_type</th>\n",
       "      <th>age</th>\n",
       "      <th>sex</th>\n",
       "      <th>localization</th>\n",
       "    </tr>\n",
       "  </thead>\n",
       "  <tbody>\n",
       "    <tr>\n",
       "      <th>0</th>\n",
       "      <td>HAM_0000118</td>\n",
       "      <td>ISIC_0027419</td>\n",
       "      <td>bkl</td>\n",
       "      <td>histo</td>\n",
       "      <td>80.0</td>\n",
       "      <td>male</td>\n",
       "      <td>scalp</td>\n",
       "    </tr>\n",
       "    <tr>\n",
       "      <th>1</th>\n",
       "      <td>HAM_0000118</td>\n",
       "      <td>ISIC_0025030</td>\n",
       "      <td>bkl</td>\n",
       "      <td>histo</td>\n",
       "      <td>80.0</td>\n",
       "      <td>male</td>\n",
       "      <td>scalp</td>\n",
       "    </tr>\n",
       "    <tr>\n",
       "      <th>2</th>\n",
       "      <td>HAM_0002730</td>\n",
       "      <td>ISIC_0026769</td>\n",
       "      <td>bkl</td>\n",
       "      <td>histo</td>\n",
       "      <td>80.0</td>\n",
       "      <td>male</td>\n",
       "      <td>scalp</td>\n",
       "    </tr>\n",
       "    <tr>\n",
       "      <th>3</th>\n",
       "      <td>HAM_0002730</td>\n",
       "      <td>ISIC_0025661</td>\n",
       "      <td>bkl</td>\n",
       "      <td>histo</td>\n",
       "      <td>80.0</td>\n",
       "      <td>male</td>\n",
       "      <td>scalp</td>\n",
       "    </tr>\n",
       "    <tr>\n",
       "      <th>4</th>\n",
       "      <td>HAM_0001466</td>\n",
       "      <td>ISIC_0031633</td>\n",
       "      <td>bkl</td>\n",
       "      <td>histo</td>\n",
       "      <td>75.0</td>\n",
       "      <td>male</td>\n",
       "      <td>ear</td>\n",
       "    </tr>\n",
       "  </tbody>\n",
       "</table>\n",
       "</div>"
      ],
      "text/plain": [
       "     lesion_id      image_id   dx dx_type   age   sex localization\n",
       "0  HAM_0000118  ISIC_0027419  bkl   histo  80.0  male        scalp\n",
       "1  HAM_0000118  ISIC_0025030  bkl   histo  80.0  male        scalp\n",
       "2  HAM_0002730  ISIC_0026769  bkl   histo  80.0  male        scalp\n",
       "3  HAM_0002730  ISIC_0025661  bkl   histo  80.0  male        scalp\n",
       "4  HAM_0001466  ISIC_0031633  bkl   histo  75.0  male          ear"
      ]
     },
     "execution_count": 19,
     "metadata": {
      "tags": []
     },
     "output_type": "execute_result"
    }
   ],
   "source": [
    "meta_data.head()"
   ]
  },
  {
   "cell_type": "code",
   "execution_count": 0,
   "metadata": {
    "colab": {},
    "colab_type": "code",
    "collapsed": true,
    "id": "cDe33LVM_I4J"
   },
   "outputs": [],
   "source": [
    "base_skin_dir = os.path.join('drive/My Drive/','input')"
   ]
  },
  {
   "cell_type": "code",
   "execution_count": 0,
   "metadata": {
    "colab": {
     "base_uri": "https://localhost:8080/",
     "height": 34
    },
    "colab_type": "code",
    "id": "IEzjGIcnA2xq",
    "outputId": "76761a31-7f07-46e8-8e71-b5824f9ce8ce"
   },
   "outputs": [
    {
     "data": {
      "text/plain": [
       "'drive/My Drive/input'"
      ]
     },
     "execution_count": 21,
     "metadata": {
      "tags": []
     },
     "output_type": "execute_result"
    }
   ],
   "source": [
    "base_skin_dir"
   ]
  },
  {
   "cell_type": "code",
   "execution_count": 0,
   "metadata": {
    "colab": {},
    "colab_type": "code",
    "collapsed": true,
    "id": "WlYbacWkA5FU"
   },
   "outputs": [],
   "source": [
    "imagid_path_dict = {os.path.splitext(os.path.basename(x))[0]: x for x in glob(os.path.join(base_skin_dir,'*','*.jpg'))}"
   ]
  },
  {
   "cell_type": "code",
   "execution_count": 0,
   "metadata": {
    "colab": {},
    "colab_type": "code",
    "collapsed": true,
    "id": "w3LD3mIHBCgQ"
   },
   "outputs": [],
   "source": [
    "lession_type_dict = {'nv':'Melanocytic nevi','mel':'Melanoma','bkl':'Benign Keratosis-like lesions','bcc':'Basal Cell Carcinoma','akiec':'Actinic Keratoses','vasc':'Vascular Lessions','df':'Dermatofibroma'}"
   ]
  },
  {
   "cell_type": "code",
   "execution_count": 0,
   "metadata": {
    "colab": {
     "base_uri": "https://localhost:8080/",
     "height": 139
    },
    "colab_type": "code",
    "id": "Vl7Fe8UXBKIT",
    "outputId": "8e113f11-c67f-425b-d0d8-7f602d77c702"
   },
   "outputs": [
    {
     "data": {
      "text/plain": [
       "{'akiec': 'Actinic Keratoses',\n",
       " 'bcc': 'Basal Cell Carcinoma',\n",
       " 'bkl': 'Benign Keratosis-like lesions',\n",
       " 'df': 'Dermatofibroma',\n",
       " 'mel': 'Melanoma',\n",
       " 'nv': 'Melanocytic nevi',\n",
       " 'vasc': 'Vascular Lessions'}"
      ]
     },
     "execution_count": 24,
     "metadata": {
      "tags": []
     },
     "output_type": "execute_result"
    }
   ],
   "source": [
    "lession_type_dict"
   ]
  },
  {
   "cell_type": "code",
   "execution_count": 0,
   "metadata": {
    "colab": {},
    "colab_type": "code",
    "collapsed": true,
    "id": "UT2GlcaVBQd2"
   },
   "outputs": [],
   "source": [
    "skin_df = pd.read_csv(os.path.join(base_skin_dir,'skincancer_metadata.csv'))"
   ]
  },
  {
   "cell_type": "code",
   "execution_count": 0,
   "metadata": {
    "colab": {
     "base_uri": "https://localhost:8080/",
     "height": 206
    },
    "colab_type": "code",
    "id": "cB5QeAk5BVE3",
    "outputId": "25fafa61-2cdc-4b71-a3f1-4a0b2e751392"
   },
   "outputs": [
    {
     "data": {
      "text/html": [
       "<div>\n",
       "<style scoped>\n",
       "    .dataframe tbody tr th:only-of-type {\n",
       "        vertical-align: middle;\n",
       "    }\n",
       "\n",
       "    .dataframe tbody tr th {\n",
       "        vertical-align: top;\n",
       "    }\n",
       "\n",
       "    .dataframe thead th {\n",
       "        text-align: right;\n",
       "    }\n",
       "</style>\n",
       "<table border=\"1\" class=\"dataframe\">\n",
       "  <thead>\n",
       "    <tr style=\"text-align: right;\">\n",
       "      <th></th>\n",
       "      <th>lesion_id</th>\n",
       "      <th>image_id</th>\n",
       "      <th>dx</th>\n",
       "      <th>dx_type</th>\n",
       "      <th>age</th>\n",
       "      <th>sex</th>\n",
       "      <th>localization</th>\n",
       "    </tr>\n",
       "  </thead>\n",
       "  <tbody>\n",
       "    <tr>\n",
       "      <th>0</th>\n",
       "      <td>HAM_0000118</td>\n",
       "      <td>ISIC_0027419</td>\n",
       "      <td>bkl</td>\n",
       "      <td>histo</td>\n",
       "      <td>80.0</td>\n",
       "      <td>male</td>\n",
       "      <td>scalp</td>\n",
       "    </tr>\n",
       "    <tr>\n",
       "      <th>1</th>\n",
       "      <td>HAM_0000118</td>\n",
       "      <td>ISIC_0025030</td>\n",
       "      <td>bkl</td>\n",
       "      <td>histo</td>\n",
       "      <td>80.0</td>\n",
       "      <td>male</td>\n",
       "      <td>scalp</td>\n",
       "    </tr>\n",
       "    <tr>\n",
       "      <th>2</th>\n",
       "      <td>HAM_0002730</td>\n",
       "      <td>ISIC_0026769</td>\n",
       "      <td>bkl</td>\n",
       "      <td>histo</td>\n",
       "      <td>80.0</td>\n",
       "      <td>male</td>\n",
       "      <td>scalp</td>\n",
       "    </tr>\n",
       "    <tr>\n",
       "      <th>3</th>\n",
       "      <td>HAM_0002730</td>\n",
       "      <td>ISIC_0025661</td>\n",
       "      <td>bkl</td>\n",
       "      <td>histo</td>\n",
       "      <td>80.0</td>\n",
       "      <td>male</td>\n",
       "      <td>scalp</td>\n",
       "    </tr>\n",
       "    <tr>\n",
       "      <th>4</th>\n",
       "      <td>HAM_0001466</td>\n",
       "      <td>ISIC_0031633</td>\n",
       "      <td>bkl</td>\n",
       "      <td>histo</td>\n",
       "      <td>75.0</td>\n",
       "      <td>male</td>\n",
       "      <td>ear</td>\n",
       "    </tr>\n",
       "  </tbody>\n",
       "</table>\n",
       "</div>"
      ],
      "text/plain": [
       "     lesion_id      image_id   dx dx_type   age   sex localization\n",
       "0  HAM_0000118  ISIC_0027419  bkl   histo  80.0  male        scalp\n",
       "1  HAM_0000118  ISIC_0025030  bkl   histo  80.0  male        scalp\n",
       "2  HAM_0002730  ISIC_0026769  bkl   histo  80.0  male        scalp\n",
       "3  HAM_0002730  ISIC_0025661  bkl   histo  80.0  male        scalp\n",
       "4  HAM_0001466  ISIC_0031633  bkl   histo  75.0  male          ear"
      ]
     },
     "execution_count": 26,
     "metadata": {
      "tags": []
     },
     "output_type": "execute_result"
    }
   ],
   "source": [
    "skin_df.head()"
   ]
  },
  {
   "cell_type": "code",
   "execution_count": 0,
   "metadata": {
    "colab": {},
    "colab_type": "code",
    "collapsed": true,
    "id": "GwBEm4w2BYSv"
   },
   "outputs": [],
   "source": [
    "skin_df['path'] = skin_df['image_id'].map(imagid_path_dict.get)\n",
    "skin_df['cell_type'] = skin_df['dx'].map(lession_type_dict.get) \n",
    "skin_df['cell_type_idx'] = pd.Categorical(skin_df['cell_type']).codes"
   ]
  },
  {
   "cell_type": "code",
   "execution_count": 0,
   "metadata": {
    "colab": {
     "base_uri": "https://localhost:8080/",
     "height": 487
    },
    "colab_type": "code",
    "id": "YLedWUYeBxzl",
    "outputId": "25f0e51b-b46a-489a-812d-510404e06537"
   },
   "outputs": [
    {
     "data": {
      "text/html": [
       "<div>\n",
       "<style scoped>\n",
       "    .dataframe tbody tr th:only-of-type {\n",
       "        vertical-align: middle;\n",
       "    }\n",
       "\n",
       "    .dataframe tbody tr th {\n",
       "        vertical-align: top;\n",
       "    }\n",
       "\n",
       "    .dataframe thead th {\n",
       "        text-align: right;\n",
       "    }\n",
       "</style>\n",
       "<table border=\"1\" class=\"dataframe\">\n",
       "  <thead>\n",
       "    <tr style=\"text-align: right;\">\n",
       "      <th></th>\n",
       "      <th>lesion_id</th>\n",
       "      <th>image_id</th>\n",
       "      <th>dx</th>\n",
       "      <th>dx_type</th>\n",
       "      <th>age</th>\n",
       "      <th>sex</th>\n",
       "      <th>localization</th>\n",
       "      <th>path</th>\n",
       "      <th>cell_type</th>\n",
       "      <th>cell_type_idx</th>\n",
       "    </tr>\n",
       "  </thead>\n",
       "  <tbody>\n",
       "    <tr>\n",
       "      <th>0</th>\n",
       "      <td>HAM_0000118</td>\n",
       "      <td>ISIC_0027419</td>\n",
       "      <td>bkl</td>\n",
       "      <td>histo</td>\n",
       "      <td>80.0</td>\n",
       "      <td>male</td>\n",
       "      <td>scalp</td>\n",
       "      <td>drive/My Drive/input/HAM10000_images_part_1/IS...</td>\n",
       "      <td>Benign Keratosis-like lesions</td>\n",
       "      <td>2</td>\n",
       "    </tr>\n",
       "    <tr>\n",
       "      <th>1</th>\n",
       "      <td>HAM_0000118</td>\n",
       "      <td>ISIC_0025030</td>\n",
       "      <td>bkl</td>\n",
       "      <td>histo</td>\n",
       "      <td>80.0</td>\n",
       "      <td>male</td>\n",
       "      <td>scalp</td>\n",
       "      <td>drive/My Drive/input/HAM10000_images_part_1/IS...</td>\n",
       "      <td>Benign Keratosis-like lesions</td>\n",
       "      <td>2</td>\n",
       "    </tr>\n",
       "    <tr>\n",
       "      <th>2</th>\n",
       "      <td>HAM_0002730</td>\n",
       "      <td>ISIC_0026769</td>\n",
       "      <td>bkl</td>\n",
       "      <td>histo</td>\n",
       "      <td>80.0</td>\n",
       "      <td>male</td>\n",
       "      <td>scalp</td>\n",
       "      <td>drive/My Drive/input/HAM10000_images_part_1/IS...</td>\n",
       "      <td>Benign Keratosis-like lesions</td>\n",
       "      <td>2</td>\n",
       "    </tr>\n",
       "    <tr>\n",
       "      <th>3</th>\n",
       "      <td>HAM_0002730</td>\n",
       "      <td>ISIC_0025661</td>\n",
       "      <td>bkl</td>\n",
       "      <td>histo</td>\n",
       "      <td>80.0</td>\n",
       "      <td>male</td>\n",
       "      <td>scalp</td>\n",
       "      <td>drive/My Drive/input/HAM10000_images_part_1/IS...</td>\n",
       "      <td>Benign Keratosis-like lesions</td>\n",
       "      <td>2</td>\n",
       "    </tr>\n",
       "    <tr>\n",
       "      <th>4</th>\n",
       "      <td>HAM_0001466</td>\n",
       "      <td>ISIC_0031633</td>\n",
       "      <td>bkl</td>\n",
       "      <td>histo</td>\n",
       "      <td>75.0</td>\n",
       "      <td>male</td>\n",
       "      <td>ear</td>\n",
       "      <td>drive/My Drive/input/HAM10000_images_part_2/IS...</td>\n",
       "      <td>Benign Keratosis-like lesions</td>\n",
       "      <td>2</td>\n",
       "    </tr>\n",
       "  </tbody>\n",
       "</table>\n",
       "</div>"
      ],
      "text/plain": [
       "     lesion_id      image_id  ...                      cell_type cell_type_idx\n",
       "0  HAM_0000118  ISIC_0027419  ...  Benign Keratosis-like lesions             2\n",
       "1  HAM_0000118  ISIC_0025030  ...  Benign Keratosis-like lesions             2\n",
       "2  HAM_0002730  ISIC_0026769  ...  Benign Keratosis-like lesions             2\n",
       "3  HAM_0002730  ISIC_0025661  ...  Benign Keratosis-like lesions             2\n",
       "4  HAM_0001466  ISIC_0031633  ...  Benign Keratosis-like lesions             2\n",
       "\n",
       "[5 rows x 10 columns]"
      ]
     },
     "execution_count": 28,
     "metadata": {
      "tags": []
     },
     "output_type": "execute_result"
    }
   ],
   "source": [
    "skin_df.head()"
   ]
  },
  {
   "cell_type": "code",
   "execution_count": 0,
   "metadata": {
    "colab": {
     "base_uri": "https://localhost:8080/",
     "height": 208
    },
    "colab_type": "code",
    "id": "O1hMZAlqBzyK",
    "outputId": "6b6d8af7-2158-475a-c93e-6a05468bcc89"
   },
   "outputs": [
    {
     "data": {
      "text/plain": [
       "lesion_id         0\n",
       "image_id          0\n",
       "dx                0\n",
       "dx_type           0\n",
       "age              57\n",
       "sex               0\n",
       "localization      0\n",
       "path              0\n",
       "cell_type         0\n",
       "cell_type_idx     0\n",
       "dtype: int64"
      ]
     },
     "execution_count": 29,
     "metadata": {
      "tags": []
     },
     "output_type": "execute_result"
    }
   ],
   "source": [
    "skin_df.isnull().sum()"
   ]
  },
  {
   "cell_type": "code",
   "execution_count": 0,
   "metadata": {
    "colab": {},
    "colab_type": "code",
    "collapsed": true,
    "id": "gwUuYfDPEYRx"
   },
   "outputs": [],
   "source": [
    "skin_df['age'].fillna((skin_df['age'].mean()), inplace=True)"
   ]
  },
  {
   "cell_type": "code",
   "execution_count": 0,
   "metadata": {
    "colab": {
     "base_uri": "https://localhost:8080/",
     "height": 208
    },
    "colab_type": "code",
    "id": "9NMfgPZ1EdsQ",
    "outputId": "c96b8de9-10b0-451e-e1a5-c2addbb83284"
   },
   "outputs": [
    {
     "data": {
      "text/plain": [
       "lesion_id        0\n",
       "image_id         0\n",
       "dx               0\n",
       "dx_type          0\n",
       "age              0\n",
       "sex              0\n",
       "localization     0\n",
       "path             0\n",
       "cell_type        0\n",
       "cell_type_idx    0\n",
       "dtype: int64"
      ]
     },
     "execution_count": 31,
     "metadata": {
      "tags": []
     },
     "output_type": "execute_result"
    }
   ],
   "source": [
    "skin_df.isnull().sum()"
   ]
  },
  {
   "cell_type": "code",
   "execution_count": 0,
   "metadata": {
    "colab": {
     "base_uri": "https://localhost:8080/",
     "height": 208
    },
    "colab_type": "code",
    "id": "gfxf9cTzEmWe",
    "outputId": "90756a07-f1ea-4098-e434-104f46444876"
   },
   "outputs": [
    {
     "name": "stdout",
     "output_type": "stream",
     "text": [
      "lesion_id         object\n",
      "image_id          object\n",
      "dx                object\n",
      "dx_type           object\n",
      "age              float64\n",
      "sex               object\n",
      "localization      object\n",
      "path              object\n",
      "cell_type         object\n",
      "cell_type_idx       int8\n",
      "dtype: object\n"
     ]
    }
   ],
   "source": [
    "print(skin_df.dtypes)"
   ]
  },
  {
   "cell_type": "code",
   "execution_count": 0,
   "metadata": {
    "colab": {
     "base_uri": "https://localhost:8080/",
     "height": 473
    },
    "colab_type": "code",
    "id": "TplFPcE0ErFp",
    "outputId": "9738cda0-2213-44e1-f5e4-39a3e0d075c6"
   },
   "outputs": [
    {
     "data": {
      "text/plain": [
       "<matplotlib.axes._subplots.AxesSubplot at 0x7f421b034240>"
      ]
     },
     "execution_count": 33,
     "metadata": {
      "tags": []
     },
     "output_type": "execute_result"
    },
    {
     "data": {
      "image/png": "[encoded data removed]",
      "text/plain": [
       "<Figure size 720x360 with 1 Axes>"
      ]
     },
     "metadata": {
      "tags": []
     },
     "output_type": "display_data"
    }
   ],
   "source": [
    "fig, ax1 = plt.subplots(1, 1, figsize= (10, 5))\n",
    "skin_df['cell_type'].value_counts().plot(kind='bar', ax=ax1)"
   ]
  },
  {
   "cell_type": "code",
   "execution_count": null,
   "metadata": {
    "colab": {
     "base_uri": "https://localhost:8080/",
     "height": 676
    },
    "colab_type": "code",
    "collapsed": true,
    "id": "K2WflB7wEumF",
    "outputId": "b7f50996-fdbd-4788-f4ef-25e8822dbcad"
   },
   "outputs": [],
   "source": [
    "skin_df['image'] = skin_df['path'].map(lambda x: np.asarray(Image.open(x).resize((100,75))))\n"
   ]
  },
  {
   "cell_type": "code",
   "execution_count": 0,
   "metadata": {
    "colab": {
     "base_uri": "https://localhost:8080/",
     "height": 903
    },
    "colab_type": "code",
    "id": "GWGA8_KlTu4F",
    "outputId": "d5eacfbd-9ac8-48ac-b8d7-b539c264dea7"
   },
   "outputs": [
    {
     "data": {
      "text/html": [
       "<div>\n",
       "<style scoped>\n",
       "    .dataframe tbody tr th:only-of-type {\n",
       "        vertical-align: middle;\n",
       "    }\n",
       "\n",
       "    .dataframe tbody tr th {\n",
       "        vertical-align: top;\n",
       "    }\n",
       "\n",
       "    .dataframe thead th {\n",
       "        text-align: right;\n",
       "    }\n",
       "</style>\n",
       "<table border=\"1\" class=\"dataframe\">\n",
       "  <thead>\n",
       "    <tr style=\"text-align: right;\">\n",
       "      <th></th>\n",
       "      <th>lesion_id</th>\n",
       "      <th>image_id</th>\n",
       "      <th>dx</th>\n",
       "      <th>dx_type</th>\n",
       "      <th>age</th>\n",
       "      <th>sex</th>\n",
       "      <th>localization</th>\n",
       "      <th>path</th>\n",
       "      <th>cell_type</th>\n",
       "      <th>cell_type_idx</th>\n",
       "      <th>image</th>\n",
       "    </tr>\n",
       "  </thead>\n",
       "  <tbody>\n",
       "    <tr>\n",
       "      <th>0</th>\n",
       "      <td>HAM_0000118</td>\n",
       "      <td>ISIC_0027419</td>\n",
       "      <td>bkl</td>\n",
       "      <td>histo</td>\n",
       "      <td>80.0</td>\n",
       "      <td>male</td>\n",
       "      <td>scalp</td>\n",
       "      <td>drive/My Drive/input/HAM10000_images_part_1/IS...</td>\n",
       "      <td>Benign Keratosis-like lesions</td>\n",
       "      <td>2</td>\n",
       "      <td>[[[191, 153, 194], [191, 154, 198], [189, 152,...</td>\n",
       "    </tr>\n",
       "    <tr>\n",
       "      <th>1</th>\n",
       "      <td>HAM_0000118</td>\n",
       "      <td>ISIC_0025030</td>\n",
       "      <td>bkl</td>\n",
       "      <td>histo</td>\n",
       "      <td>80.0</td>\n",
       "      <td>male</td>\n",
       "      <td>scalp</td>\n",
       "      <td>drive/My Drive/input/HAM10000_images_part_1/IS...</td>\n",
       "      <td>Benign Keratosis-like lesions</td>\n",
       "      <td>2</td>\n",
       "      <td>[[[23, 13, 22], [25, 15, 24], [24, 16, 31], [3...</td>\n",
       "    </tr>\n",
       "    <tr>\n",
       "      <th>2</th>\n",
       "      <td>HAM_0002730</td>\n",
       "      <td>ISIC_0026769</td>\n",
       "      <td>bkl</td>\n",
       "      <td>histo</td>\n",
       "      <td>80.0</td>\n",
       "      <td>male</td>\n",
       "      <td>scalp</td>\n",
       "      <td>drive/My Drive/input/HAM10000_images_part_1/IS...</td>\n",
       "      <td>Benign Keratosis-like lesions</td>\n",
       "      <td>2</td>\n",
       "      <td>[[[186, 126, 136], [190, 136, 149], [195, 137,...</td>\n",
       "    </tr>\n",
       "    <tr>\n",
       "      <th>3</th>\n",
       "      <td>HAM_0002730</td>\n",
       "      <td>ISIC_0025661</td>\n",
       "      <td>bkl</td>\n",
       "      <td>histo</td>\n",
       "      <td>80.0</td>\n",
       "      <td>male</td>\n",
       "      <td>scalp</td>\n",
       "      <td>drive/My Drive/input/HAM10000_images_part_1/IS...</td>\n",
       "      <td>Benign Keratosis-like lesions</td>\n",
       "      <td>2</td>\n",
       "      <td>[[[24, 11, 18], [27, 13, 26], [39, 23, 33], [6...</td>\n",
       "    </tr>\n",
       "    <tr>\n",
       "      <th>4</th>\n",
       "      <td>HAM_0001466</td>\n",
       "      <td>ISIC_0031633</td>\n",
       "      <td>bkl</td>\n",
       "      <td>histo</td>\n",
       "      <td>75.0</td>\n",
       "      <td>male</td>\n",
       "      <td>ear</td>\n",
       "      <td>drive/My Drive/input/HAM10000_images_part_2/IS...</td>\n",
       "      <td>Benign Keratosis-like lesions</td>\n",
       "      <td>2</td>\n",
       "      <td>[[[136, 91, 114], [148, 104, 127], [161, 117, ...</td>\n",
       "    </tr>\n",
       "  </tbody>\n",
       "</table>\n",
       "</div>"
      ],
      "text/plain": [
       "     lesion_id  ...                                              image\n",
       "0  HAM_0000118  ...  [[[191, 153, 194], [191, 154, 198], [189, 152,...\n",
       "1  HAM_0000118  ...  [[[23, 13, 22], [25, 15, 24], [24, 16, 31], [3...\n",
       "2  HAM_0002730  ...  [[[186, 126, 136], [190, 136, 149], [195, 137,...\n",
       "3  HAM_0002730  ...  [[[24, 11, 18], [27, 13, 26], [39, 23, 33], [6...\n",
       "4  HAM_0001466  ...  [[[136, 91, 114], [148, 104, 127], [161, 117, ...\n",
       "\n",
       "[5 rows x 11 columns]"
      ]
     },
     "execution_count": 23,
     "metadata": {
      "tags": []
     },
     "output_type": "execute_result"
    }
   ],
   "source": [
    "skin_df.head()"
   ]
  },
  {
   "cell_type": "code",
   "execution_count": 0,
   "metadata": {
    "colab": {
     "base_uri": "https://localhost:8080/",
     "height": 54
    },
    "colab_type": "code",
    "id": "IIpByqPa9AN6",
    "outputId": "6dcffe50-1cd5-43c9-f80c-795ac6fe92f8"
   },
   "outputs": [
    {
     "data": {
      "text/plain": [
       "(75, 100, 3)    10015\n",
       "Name: image, dtype: int64"
      ]
     },
     "execution_count": 24,
     "metadata": {
      "tags": []
     },
     "output_type": "execute_result"
    }
   ],
   "source": [
    "skin_df['image'].map(lambda x: x.shape).value_counts()"
   ]
  },
  {
   "cell_type": "code",
   "execution_count": 0,
   "metadata": {
    "colab": {},
    "colab_type": "code",
    "collapsed": true,
    "id": "hHPnL0yb9Iag"
   },
   "outputs": [],
   "source": [
    "features=skin_df[['image']]\n",
    "target=skin_df['cell_type_idx']"
   ]
  },
  {
   "cell_type": "code",
   "execution_count": 0,
   "metadata": {
    "colab": {
     "base_uri": "https://localhost:8080/",
     "height": 206
    },
    "colab_type": "code",
    "id": "r5_qqUmc9daY",
    "outputId": "1ac671bd-47e1-426c-c49b-565735cca9d0"
   },
   "outputs": [
    {
     "data": {
      "text/html": [
       "<div>\n",
       "<style scoped>\n",
       "    .dataframe tbody tr th:only-of-type {\n",
       "        vertical-align: middle;\n",
       "    }\n",
       "\n",
       "    .dataframe tbody tr th {\n",
       "        vertical-align: top;\n",
       "    }\n",
       "\n",
       "    .dataframe thead th {\n",
       "        text-align: right;\n",
       "    }\n",
       "</style>\n",
       "<table border=\"1\" class=\"dataframe\">\n",
       "  <thead>\n",
       "    <tr style=\"text-align: right;\">\n",
       "      <th></th>\n",
       "      <th>image</th>\n",
       "    </tr>\n",
       "  </thead>\n",
       "  <tbody>\n",
       "    <tr>\n",
       "      <th>0</th>\n",
       "      <td>[[[191, 153, 194], [191, 154, 198], [189, 152,...</td>\n",
       "    </tr>\n",
       "    <tr>\n",
       "      <th>1</th>\n",
       "      <td>[[[23, 13, 22], [25, 15, 24], [24, 16, 31], [3...</td>\n",
       "    </tr>\n",
       "    <tr>\n",
       "      <th>2</th>\n",
       "      <td>[[[186, 126, 136], [190, 136, 149], [195, 137,...</td>\n",
       "    </tr>\n",
       "    <tr>\n",
       "      <th>3</th>\n",
       "      <td>[[[24, 11, 18], [27, 13, 26], [39, 23, 33], [6...</td>\n",
       "    </tr>\n",
       "    <tr>\n",
       "      <th>4</th>\n",
       "      <td>[[[136, 91, 114], [148, 104, 127], [161, 117, ...</td>\n",
       "    </tr>\n",
       "  </tbody>\n",
       "</table>\n",
       "</div>"
      ],
      "text/plain": [
       "                                               image\n",
       "0  [[[191, 153, 194], [191, 154, 198], [189, 152,...\n",
       "1  [[[23, 13, 22], [25, 15, 24], [24, 16, 31], [3...\n",
       "2  [[[186, 126, 136], [190, 136, 149], [195, 137,...\n",
       "3  [[[24, 11, 18], [27, 13, 26], [39, 23, 33], [6...\n",
       "4  [[[136, 91, 114], [148, 104, 127], [161, 117, ..."
      ]
     },
     "execution_count": 30,
     "metadata": {
      "tags": []
     },
     "output_type": "execute_result"
    }
   ],
   "source": [
    "features.head()"
   ]
  },
  {
   "cell_type": "code",
   "execution_count": 0,
   "metadata": {
    "colab": {},
    "colab_type": "code",
    "collapsed": true,
    "id": "4jJCi7H69fR5"
   },
   "outputs": [],
   "source": [
    "\n",
    "\n",
    "x_train_o, x_test_o, y_train_o, y_test_o = train_test_split(features, target, test_size=0.20,random_state=1234)\n",
    "\n"
   ]
  },
  {
   "cell_type": "code",
   "execution_count": 0,
   "metadata": {
    "colab": {
     "base_uri": "https://localhost:8080/",
     "height": 206
    },
    "colab_type": "code",
    "id": "PfWvzC3N-NXY",
    "outputId": "c80a21b5-3534-4897-82e5-2ec04d828e8b"
   },
   "outputs": [
    {
     "data": {
      "text/html": [
       "<div>\n",
       "<style scoped>\n",
       "    .dataframe tbody tr th:only-of-type {\n",
       "        vertical-align: middle;\n",
       "    }\n",
       "\n",
       "    .dataframe tbody tr th {\n",
       "        vertical-align: top;\n",
       "    }\n",
       "\n",
       "    .dataframe thead th {\n",
       "        text-align: right;\n",
       "    }\n",
       "</style>\n",
       "<table border=\"1\" class=\"dataframe\">\n",
       "  <thead>\n",
       "    <tr style=\"text-align: right;\">\n",
       "      <th></th>\n",
       "      <th>image</th>\n",
       "    </tr>\n",
       "  </thead>\n",
       "  <tbody>\n",
       "    <tr>\n",
       "      <th>8442</th>\n",
       "      <td>[[[157, 115, 127], [162, 122, 133], [164, 126,...</td>\n",
       "    </tr>\n",
       "    <tr>\n",
       "      <th>2908</th>\n",
       "      <td>[[[202, 149, 167], [200, 143, 160], [199, 144,...</td>\n",
       "    </tr>\n",
       "    <tr>\n",
       "      <th>8909</th>\n",
       "      <td>[[[184, 164, 157], [188, 168, 161], [188, 168,...</td>\n",
       "    </tr>\n",
       "    <tr>\n",
       "      <th>58</th>\n",
       "      <td>[[[29, 18, 24], [34, 21, 28], [41, 25, 36], [5...</td>\n",
       "    </tr>\n",
       "    <tr>\n",
       "      <th>2960</th>\n",
       "      <td>[[[152, 101, 97], [154, 101, 95], [156, 107, 1...</td>\n",
       "    </tr>\n",
       "  </tbody>\n",
       "</table>\n",
       "</div>"
      ],
      "text/plain": [
       "                                                  image\n",
       "8442  [[[157, 115, 127], [162, 122, 133], [164, 126,...\n",
       "2908  [[[202, 149, 167], [200, 143, 160], [199, 144,...\n",
       "8909  [[[184, 164, 157], [188, 168, 161], [188, 168,...\n",
       "58    [[[29, 18, 24], [34, 21, 28], [41, 25, 36], [5...\n",
       "2960  [[[152, 101, 97], [154, 101, 95], [156, 107, 1..."
      ]
     },
     "execution_count": 32,
     "metadata": {
      "tags": []
     },
     "output_type": "execute_result"
    }
   ],
   "source": [
    "x_train_o.head()"
   ]
  },
  {
   "cell_type": "code",
   "execution_count": 0,
   "metadata": {
    "colab": {
     "base_uri": "https://localhost:8080/",
     "height": 129
    },
    "colab_type": "code",
    "id": "spAAHPUP-PVG",
    "outputId": "371edb79-f605-405c-a0b8-04c4409a235f"
   },
   "outputs": [
    {
     "data": {
      "text/plain": [
       "8442    4\n",
       "2908    1\n",
       "8909    4\n",
       "58      2\n",
       "2960    1\n",
       "Name: cell_type_idx, dtype: int8"
      ]
     },
     "execution_count": 33,
     "metadata": {
      "tags": []
     },
     "output_type": "execute_result"
    }
   ],
   "source": [
    "y_train_o.head()"
   ]
  },
  {
   "cell_type": "code",
   "execution_count": 0,
   "metadata": {
    "colab": {},
    "colab_type": "code",
    "collapsed": true,
    "id": "Qs5TNSs1-U2n"
   },
   "outputs": [],
   "source": [
    "x_train = np.asarray(x_train_o['image'].tolist())\n",
    "x_test = np.asarray(x_test_o['image'].tolist())\n",
    "\n",
    "x_train_mean = np.mean(x_train)\n",
    "x_train_std = np.std(x_train)\n",
    "\n",
    "x_test_mean = np.mean(x_test)\n",
    "x_test_std = np.std(x_test)\n",
    "\n",
    "x_train = (x_train - x_train_mean)/x_train_std\n",
    "x_test = (x_test - x_test_mean)/x_test_std"
   ]
  },
  {
   "cell_type": "code",
   "execution_count": 0,
   "metadata": {
    "colab": {},
    "colab_type": "code",
    "collapsed": true,
    "id": "Vh7FYwGg-hJP"
   },
   "outputs": [],
   "source": [
    "\n",
    "\n",
    "# Perform one-hot encoding on the labels\n",
    "y_train = to_categorical(y_train_o, num_classes = 7)\n",
    "y_test = to_categorical(y_test_o, num_classes = 7)\n",
    "\n"
   ]
  },
  {
   "cell_type": "code",
   "execution_count": 0,
   "metadata": {
    "colab": {
     "base_uri": "https://localhost:8080/",
     "height": 148
    },
    "colab_type": "code",
    "id": "Om5eOxC1-whp",
    "outputId": "a1c33edf-3733-4224-e032-a62d3f328c50"
   },
   "outputs": [
    {
     "data": {
      "text/plain": [
       "array([[0., 0., 0., ..., 1., 0., 0.],\n",
       "       [0., 1., 0., ..., 0., 0., 0.],\n",
       "       [0., 0., 0., ..., 1., 0., 0.],\n",
       "       ...,\n",
       "       [0., 0., 0., ..., 1., 0., 0.],\n",
       "       [0., 0., 0., ..., 0., 1., 0.],\n",
       "       [0., 0., 0., ..., 1., 0., 0.]], dtype=float32)"
      ]
     },
     "execution_count": 40,
     "metadata": {
      "tags": []
     },
     "output_type": "execute_result"
    }
   ],
   "source": [
    "y_train"
   ]
  },
  {
   "cell_type": "code",
   "execution_count": 0,
   "metadata": {
    "colab": {},
    "colab_type": "code",
    "collapsed": true,
    "id": "yg6gDtVE-xvV"
   },
   "outputs": [],
   "source": [
    "\n",
    "\n",
    "x_train, x_validate, y_train, y_validate = train_test_split(x_train, y_train, test_size = 0.1, random_state = 2)\n",
    "\n"
   ]
  },
  {
   "cell_type": "code",
   "execution_count": 0,
   "metadata": {
    "colab": {},
    "colab_type": "code",
    "collapsed": true,
    "id": "RCNavXQ7_CXI"
   },
   "outputs": [],
   "source": [
    "\n",
    "\n",
    "# Reshape image in 3 dimensions (height = 75px, width = 100px , canal = 3)\n",
    "x_train = x_train.reshape(x_train.shape[0], *(75, 100, 3))\n",
    "x_test = x_test.reshape(x_test.shape[0], *(75, 100, 3))\n",
    "x_validate = x_validate.reshape(x_validate.shape[0], *(75, 100, 3))\n",
    "\n"
   ]
  },
  {
   "cell_type": "code",
   "execution_count": 0,
   "metadata": {
    "colab": {},
    "colab_type": "code",
    "collapsed": true,
    "id": "7QTyW_pE_ZDA"
   },
   "outputs": [],
   "source": []
  },
  {
   "cell_type": "code",
   "execution_count": 0,
   "metadata": {
    "colab": {},
    "colab_type": "code",
    "collapsed": true,
    "id": "ETuYYVgL_aPQ"
   },
   "outputs": [],
   "source": []
  },
  {
   "cell_type": "markdown",
   "metadata": {
    "colab_type": "text",
    "id": "5WlpdDsf_kQ_"
   },
   "source": [
    "Step 11: Model Building"
   ]
  },
  {
   "cell_type": "code",
   "execution_count": 0,
   "metadata": {
    "colab": {},
    "colab_type": "code",
    "collapsed": true,
    "id": "eDDFK943_lBT"
   },
   "outputs": [],
   "source": [
    "input_shape = (75, 100, 3)\n",
    "num_classes = 7\n"
   ]
  },
  {
   "cell_type": "code",
   "execution_count": 0,
   "metadata": {
    "colab": {
     "base_uri": "https://localhost:8080/",
     "height": 878
    },
    "colab_type": "code",
    "id": "aBhJEsUG_rrm",
    "outputId": "ceea0353-92db-4cb5-fa9a-116f6747881d"
   },
   "outputs": [
    {
     "name": "stdout",
     "output_type": "stream",
     "text": [
      "WARNING:tensorflow:From /usr/local/lib/python3.6/dist-packages/keras/backend/tensorflow_backend.py:66: The name tf.get_default_graph is deprecated. Please use tf.compat.v1.get_default_graph instead.\n",
      "\n",
      "WARNING:tensorflow:From /usr/local/lib/python3.6/dist-packages/keras/backend/tensorflow_backend.py:541: The name tf.placeholder is deprecated. Please use tf.compat.v1.placeholder instead.\n",
      "\n",
      "WARNING:tensorflow:From /usr/local/lib/python3.6/dist-packages/keras/backend/tensorflow_backend.py:4432: The name tf.random_uniform is deprecated. Please use tf.random.uniform instead.\n",
      "\n",
      "WARNING:tensorflow:From /usr/local/lib/python3.6/dist-packages/keras/backend/tensorflow_backend.py:4267: The name tf.nn.max_pool is deprecated. Please use tf.nn.max_pool2d instead.\n",
      "\n",
      "WARNING:tensorflow:From /usr/local/lib/python3.6/dist-packages/keras/backend/tensorflow_backend.py:148: The name tf.placeholder_with_default is deprecated. Please use tf.compat.v1.placeholder_with_default instead.\n",
      "\n",
      "WARNING:tensorflow:From /usr/local/lib/python3.6/dist-packages/keras/backend/tensorflow_backend.py:3733: calling dropout (from tensorflow.python.ops.nn_ops) with keep_prob is deprecated and will be removed in a future version.\n",
      "Instructions for updating:\n",
      "Please use `rate` instead of `keep_prob`. Rate should be set to `rate = 1 - keep_prob`.\n",
      "Model: \"sequential_1\"\n",
      "_________________________________________________________________\n",
      "Layer (type)                 Output Shape              Param #   \n",
      "=================================================================\n",
      "conv2d_1 (Conv2D)            (None, 75, 100, 32)       896       \n",
      "_________________________________________________________________\n",
      "conv2d_2 (Conv2D)            (None, 75, 100, 32)       9248      \n",
      "_________________________________________________________________\n",
      "max_pooling2d_1 (MaxPooling2 (None, 37, 50, 32)        0         \n",
      "_________________________________________________________________\n",
      "dropout_1 (Dropout)          (None, 37, 50, 32)        0         \n",
      "_________________________________________________________________\n",
      "conv2d_3 (Conv2D)            (None, 37, 50, 64)        18496     \n",
      "_________________________________________________________________\n",
      "conv2d_4 (Conv2D)            (None, 37, 50, 64)        36928     \n",
      "_________________________________________________________________\n",
      "max_pooling2d_2 (MaxPooling2 (None, 18, 25, 64)        0         \n",
      "_________________________________________________________________\n",
      "dropout_2 (Dropout)          (None, 18, 25, 64)        0         \n",
      "_________________________________________________________________\n",
      "flatten_1 (Flatten)          (None, 28800)             0         \n",
      "_________________________________________________________________\n",
      "dense_1 (Dense)              (None, 128)               3686528   \n",
      "_________________________________________________________________\n",
      "dropout_3 (Dropout)          (None, 128)               0         \n",
      "_________________________________________________________________\n",
      "dense_2 (Dense)              (None, 7)                 903       \n",
      "=================================================================\n",
      "Total params: 3,752,999\n",
      "Trainable params: 3,752,999\n",
      "Non-trainable params: 0\n",
      "_________________________________________________________________\n"
     ]
    }
   ],
   "source": [
    "model = Sequential()\n",
    "model.add(Conv2D(32, kernel_size=(3, 3),activation='relu',padding = 'Same',input_shape=input_shape))\n",
    "model.add(Conv2D(32,kernel_size=(3, 3), activation='relu',padding = 'Same',))\n",
    "model.add(MaxPool2D(pool_size = (2, 2)))\n",
    "model.add(Dropout(0.25))\n",
    "\n",
    "model.add(Conv2D(64, (3, 3), activation='relu',padding = 'Same'))\n",
    "model.add(Conv2D(64, (3, 3), activation='relu',padding = 'Same'))\n",
    "model.add(MaxPool2D(pool_size=(2, 2)))\n",
    "model.add(Dropout(0.40))\n",
    "\n",
    "model.add(Flatten())\n",
    "model.add(Dense(128, activation='relu'))\n",
    "model.add(Dropout(0.5))\n",
    "model.add(Dense(num_classes, activation='softmax'))\n",
    "model.summary()"
   ]
  },
  {
   "cell_type": "code",
   "execution_count": 0,
   "metadata": {
    "colab": {},
    "colab_type": "code",
    "collapsed": true,
    "id": "rYdn3e3-__bm"
   },
   "outputs": [],
   "source": [
    "\n",
    "optimizer = Adam(lr=0.001, beta_1=0.9, beta_2=0.999, epsilon=None, decay=0.0, amsgrad=False)"
   ]
  },
  {
   "cell_type": "code",
   "execution_count": 0,
   "metadata": {
    "colab": {
     "base_uri": "https://localhost:8080/",
     "height": 112
    },
    "colab_type": "code",
    "id": "ZZqLDpmVAoKJ",
    "outputId": "d45342ac-e921-446e-d870-64e4e00842ab",
    "scrolled": true
   },
   "outputs": [
    {
     "name": "stdout",
     "output_type": "stream",
     "text": [
      "WARNING:tensorflow:From /usr/local/lib/python3.6/dist-packages/keras/optimizers.py:793: The name tf.train.Optimizer is deprecated. Please use tf.compat.v1.train.Optimizer instead.\n",
      "\n",
      "WARNING:tensorflow:From /usr/local/lib/python3.6/dist-packages/keras/backend/tensorflow_backend.py:3576: The name tf.log is deprecated. Please use tf.math.log instead.\n",
      "\n"
     ]
    }
   ],
   "source": [
    "model.compile(optimizer = optimizer , loss = \"categorical_crossentropy\", metrics=[\"accuracy\"])"
   ]
  },
  {
   "cell_type": "code",
   "execution_count": 0,
   "metadata": {
    "colab": {},
    "colab_type": "code",
    "collapsed": true,
    "id": "D3CsCmpDAwD5"
   },
   "outputs": [],
   "source": [
    "learning_rate_reduction = ReduceLROnPlateau(monitor='val_acc', \n",
    "                                            patience=3, \n",
    "                                            verbose=1, \n",
    "                                            factor=0.5, \n",
    "                                            min_lr=0.00001)"
   ]
  },
  {
   "cell_type": "code",
   "execution_count": 0,
   "metadata": {
    "colab": {
     "base_uri": "https://localhost:8080/",
     "height": 36
    },
    "colab_type": "code",
    "id": "a-0dT9mKBJV6",
    "outputId": "4b824376-c438-48a7-94c3-33de840dfb9f"
   },
   "outputs": [
    {
     "data": {
      "text/plain": [
       "<keras.callbacks.ReduceLROnPlateau at 0x7f1d952cda20>"
      ]
     },
     "execution_count": 51,
     "metadata": {
      "tags": []
     },
     "output_type": "execute_result"
    }
   ],
   "source": [
    "learning_rate_reduction"
   ]
  },
  {
   "cell_type": "code",
   "execution_count": 0,
   "metadata": {
    "colab": {},
    "colab_type": "code",
    "collapsed": true,
    "id": "VSHI1XvdBLWy"
   },
   "outputs": [],
   "source": [
    "\n",
    "datagen = ImageDataGenerator(\n",
    "        featurewise_center=False,  # set input mean to 0 over the dataset\n",
    "        samplewise_center=False,  # set each sample mean to 0\n",
    "        featurewise_std_normalization=False,  # divide inputs by std of the dataset\n",
    "        samplewise_std_normalization=False,  # divide each input by its std\n",
    "        zca_whitening=False,  # apply ZCA whitening\n",
    "        rotation_range=10,  # randomly rotate images in the range (degrees, 0 to 180)\n",
    "        zoom_range = 0.1, # Randomly zoom image \n",
    "        width_shift_range=0.1,  # randomly shift images horizontally (fraction of total width)\n",
    "        height_shift_range=0.1,  # randomly shift images vertically (fraction of total height)\n",
    "        horizontal_flip=False,  # randomly flip images\n",
    "        vertical_flip=False)  # randomly flip images\n",
    "\n",
    "datagen.fit(x_train)"
   ]
  },
  {
   "cell_type": "code",
   "execution_count": 0,
   "metadata": {
    "colab": {
     "base_uri": "https://localhost:8080/",
     "height": 1000
    },
    "colab_type": "code",
    "id": "89l4jyOfBgsG",
    "outputId": "cf17672d-4e8b-4531-c0e7-7697b64897c5"
   },
   "outputs": [
    {
     "name": "stdout",
     "output_type": "stream",
     "text": [
      "WARNING:tensorflow:From /usr/local/lib/python3.6/dist-packages/tensorflow_core/python/ops/math_grad.py:1424: where (from tensorflow.python.ops.array_ops) is deprecated and will be removed in a future version.\n",
      "Instructions for updating:\n",
      "Use tf.where in 2.0, which has the same broadcast rule as np.where\n",
      "WARNING:tensorflow:From /usr/local/lib/python3.6/dist-packages/keras/backend/tensorflow_backend.py:1033: The name tf.assign_add is deprecated. Please use tf.compat.v1.assign_add instead.\n",
      "\n",
      "WARNING:tensorflow:From /usr/local/lib/python3.6/dist-packages/keras/backend/tensorflow_backend.py:1020: The name tf.assign is deprecated. Please use tf.compat.v1.assign instead.\n",
      "\n",
      "WARNING:tensorflow:From /usr/local/lib/python3.6/dist-packages/keras/backend/tensorflow_backend.py:3005: The name tf.Session is deprecated. Please use tf.compat.v1.Session instead.\n",
      "\n",
      "Epoch 1/50\n",
      "WARNING:tensorflow:From /usr/local/lib/python3.6/dist-packages/keras/backend/tensorflow_backend.py:190: The name tf.get_default_session is deprecated. Please use tf.compat.v1.get_default_session instead.\n",
      "\n",
      "WARNING:tensorflow:From /usr/local/lib/python3.6/dist-packages/keras/backend/tensorflow_backend.py:197: The name tf.ConfigProto is deprecated. Please use tf.compat.v1.ConfigProto instead.\n",
      "\n",
      "WARNING:tensorflow:From /usr/local/lib/python3.6/dist-packages/keras/backend/tensorflow_backend.py:207: The name tf.global_variables is deprecated. Please use tf.compat.v1.global_variables instead.\n",
      "\n",
      "WARNING:tensorflow:From /usr/local/lib/python3.6/dist-packages/keras/backend/tensorflow_backend.py:216: The name tf.is_variable_initialized is deprecated. Please use tf.compat.v1.is_variable_initialized instead.\n",
      "\n",
      "WARNING:tensorflow:From /usr/local/lib/python3.6/dist-packages/keras/backend/tensorflow_backend.py:223: The name tf.variables_initializer is deprecated. Please use tf.compat.v1.variables_initializer instead.\n",
      "\n",
      "721/721 [==============================] - 315s 437ms/step - loss: 1.0241 - acc: 0.6662 - val_loss: 0.8878 - val_acc: 0.6820\n",
      "Epoch 2/50\n",
      "721/721 [==============================] - 313s 433ms/step - loss: 0.9133 - acc: 0.6750 - val_loss: 0.8692 - val_acc: 0.6945\n",
      "Epoch 3/50\n",
      "721/721 [==============================] - 313s 434ms/step - loss: 0.8858 - acc: 0.6803 - val_loss: 0.8992 - val_acc: 0.6945\n",
      "Epoch 4/50\n",
      "721/721 [==============================] - 313s 434ms/step - loss: 0.8724 - acc: 0.6838 - val_loss: 0.8208 - val_acc: 0.6870\n",
      "Epoch 5/50\n",
      "721/721 [==============================] - 312s 432ms/step - loss: 0.8404 - acc: 0.6928 - val_loss: 0.7869 - val_acc: 0.7032\n",
      "Epoch 6/50\n",
      "721/721 [==============================] - 311s 431ms/step - loss: 0.8112 - acc: 0.6994 - val_loss: 0.7650 - val_acc: 0.7232\n",
      "Epoch 7/50\n",
      "721/721 [==============================] - 312s 433ms/step - loss: 0.8039 - acc: 0.7121 - val_loss: 0.9727 - val_acc: 0.6995\n",
      "Epoch 8/50\n",
      "721/721 [==============================] - 312s 432ms/step - loss: 0.7926 - acc: 0.7147 - val_loss: 0.7620 - val_acc: 0.7394\n",
      "Epoch 9/50\n",
      "721/721 [==============================] - 313s 434ms/step - loss: 0.7860 - acc: 0.7147 - val_loss: 0.7327 - val_acc: 0.7269\n",
      "Epoch 10/50\n",
      "721/721 [==============================] - 313s 434ms/step - loss: 0.7654 - acc: 0.7254 - val_loss: 0.7504 - val_acc: 0.7219\n",
      "Epoch 11/50\n",
      "721/721 [==============================] - 312s 433ms/step - loss: 0.7664 - acc: 0.7207 - val_loss: 0.7349 - val_acc: 0.7357\n",
      "\n",
      "Epoch 00011: ReduceLROnPlateau reducing learning rate to 0.0005000000237487257.\n",
      "Epoch 12/50\n",
      "721/721 [==============================] - 313s 435ms/step - loss: 0.7174 - acc: 0.7393 - val_loss: 0.6645 - val_acc: 0.7631\n",
      "Epoch 13/50\n",
      "721/721 [==============================] - 315s 436ms/step - loss: 0.6992 - acc: 0.7444 - val_loss: 0.7048 - val_acc: 0.7481\n",
      "Epoch 14/50\n",
      "721/721 [==============================] - 313s 434ms/step - loss: 0.6954 - acc: 0.7433 - val_loss: 0.6849 - val_acc: 0.7556\n",
      "Epoch 15/50\n",
      "721/721 [==============================] - 310s 431ms/step - loss: 0.6900 - acc: 0.7497 - val_loss: 0.6633 - val_acc: 0.7594\n",
      "\n",
      "Epoch 00015: ReduceLROnPlateau reducing learning rate to 0.0002500000118743628.\n",
      "Epoch 16/50\n",
      "721/721 [==============================] - 311s 431ms/step - loss: 0.6594 - acc: 0.7566 - val_loss: 0.6491 - val_acc: 0.7643\n",
      "Epoch 17/50\n",
      "721/721 [==============================] - 311s 432ms/step - loss: 0.6465 - acc: 0.7613 - val_loss: 0.6502 - val_acc: 0.7706\n",
      "Epoch 18/50\n",
      "721/721 [==============================] - 310s 430ms/step - loss: 0.6433 - acc: 0.7609 - val_loss: 0.6550 - val_acc: 0.7643\n",
      "Epoch 19/50\n",
      "721/721 [==============================] - 312s 432ms/step - loss: 0.6483 - acc: 0.7610 - val_loss: 0.6333 - val_acc: 0.7743\n",
      "Epoch 20/50\n",
      "721/721 [==============================] - 311s 431ms/step - loss: 0.6454 - acc: 0.7637 - val_loss: 0.6351 - val_acc: 0.7756\n",
      "Epoch 21/50\n",
      "721/721 [==============================] - 311s 432ms/step - loss: 0.6439 - acc: 0.7621 - val_loss: 0.6442 - val_acc: 0.7781\n",
      "Epoch 22/50\n",
      "721/721 [==============================] - 312s 432ms/step - loss: 0.6202 - acc: 0.7678 - val_loss: 0.6588 - val_acc: 0.7581\n",
      "Epoch 23/50\n",
      "721/721 [==============================] - 311s 431ms/step - loss: 0.6195 - acc: 0.7696 - val_loss: 0.6619 - val_acc: 0.7668\n",
      "Epoch 24/50\n",
      "721/721 [==============================] - 309s 428ms/step - loss: 0.6269 - acc: 0.7699 - val_loss: 0.6423 - val_acc: 0.7656\n",
      "\n",
      "Epoch 00024: ReduceLROnPlateau reducing learning rate to 0.0001250000059371814.\n",
      "Epoch 25/50\n",
      "721/721 [==============================] - 307s 426ms/step - loss: 0.6011 - acc: 0.7700 - val_loss: 0.6367 - val_acc: 0.7681\n",
      "Epoch 26/50\n",
      "721/721 [==============================] - 308s 427ms/step - loss: 0.6001 - acc: 0.7802 - val_loss: 0.6428 - val_acc: 0.7643\n",
      "Epoch 27/50\n",
      "721/721 [==============================] - 309s 429ms/step - loss: 0.5911 - acc: 0.7779 - val_loss: 0.6375 - val_acc: 0.7693\n",
      "\n",
      "Epoch 00027: ReduceLROnPlateau reducing learning rate to 6.25000029685907e-05.\n",
      "Epoch 28/50\n",
      "721/721 [==============================] - 309s 428ms/step - loss: 0.5833 - acc: 0.7791 - val_loss: 0.6369 - val_acc: 0.7668\n",
      "Epoch 29/50\n",
      "721/721 [==============================] - 309s 428ms/step - loss: 0.5902 - acc: 0.7796 - val_loss: 0.6289 - val_acc: 0.7731\n",
      "Epoch 30/50\n",
      "721/721 [==============================] - 310s 430ms/step - loss: 0.5867 - acc: 0.7820 - val_loss: 0.6380 - val_acc: 0.7693\n",
      "\n",
      "Epoch 00030: ReduceLROnPlateau reducing learning rate to 3.125000148429535e-05.\n",
      "Epoch 31/50\n",
      "721/721 [==============================] - 310s 430ms/step - loss: 0.5795 - acc: 0.7795 - val_loss: 0.6211 - val_acc: 0.7781\n",
      "Epoch 32/50\n",
      "721/721 [==============================] - 309s 429ms/step - loss: 0.5756 - acc: 0.7824 - val_loss: 0.6328 - val_acc: 0.7743\n",
      "Epoch 33/50\n",
      "721/721 [==============================] - 310s 430ms/step - loss: 0.5831 - acc: 0.7809 - val_loss: 0.6327 - val_acc: 0.7706\n",
      "\n",
      "Epoch 00033: ReduceLROnPlateau reducing learning rate to 1.5625000742147677e-05.\n",
      "Epoch 34/50\n",
      "721/721 [==============================] - 310s 430ms/step - loss: 0.5741 - acc: 0.7820 - val_loss: 0.6282 - val_acc: 0.7706\n",
      "Epoch 35/50\n",
      "721/721 [==============================] - 309s 428ms/step - loss: 0.5695 - acc: 0.7818 - val_loss: 0.6295 - val_acc: 0.7756\n",
      "Epoch 36/50\n",
      "721/721 [==============================] - 310s 431ms/step - loss: 0.5730 - acc: 0.7827 - val_loss: 0.6275 - val_acc: 0.7793\n",
      "Epoch 37/50\n",
      "721/721 [==============================] - 308s 428ms/step - loss: 0.5674 - acc: 0.7872 - val_loss: 0.6313 - val_acc: 0.7756\n",
      "Epoch 38/50\n",
      "721/721 [==============================] - 308s 428ms/step - loss: 0.5742 - acc: 0.7889 - val_loss: 0.6300 - val_acc: 0.7793\n",
      "Epoch 39/50\n",
      "721/721 [==============================] - 309s 428ms/step - loss: 0.5684 - acc: 0.7875 - val_loss: 0.6308 - val_acc: 0.7781\n",
      "\n",
      "Epoch 00039: ReduceLROnPlateau reducing learning rate to 1e-05.\n",
      "Epoch 40/50\n",
      "721/721 [==============================] - 309s 428ms/step - loss: 0.5675 - acc: 0.7829 - val_loss: 0.6323 - val_acc: 0.7756\n",
      "Epoch 41/50\n",
      "721/721 [==============================] - 309s 429ms/step - loss: 0.5649 - acc: 0.7875 - val_loss: 0.6294 - val_acc: 0.7768\n",
      "Epoch 42/50\n",
      "721/721 [==============================] - 310s 431ms/step - loss: 0.5625 - acc: 0.7868 - val_loss: 0.6289 - val_acc: 0.7756\n",
      "Epoch 43/50\n",
      "721/721 [==============================] - 308s 428ms/step - loss: 0.5595 - acc: 0.7940 - val_loss: 0.6303 - val_acc: 0.7768\n",
      "Epoch 44/50\n",
      "721/721 [==============================] - 310s 430ms/step - loss: 0.5720 - acc: 0.7829 - val_loss: 0.6315 - val_acc: 0.7768\n",
      "Epoch 45/50\n",
      "721/721 [==============================] - 309s 428ms/step - loss: 0.5660 - acc: 0.7863 - val_loss: 0.6373 - val_acc: 0.7693\n",
      "Epoch 46/50\n",
      "721/721 [==============================] - 308s 428ms/step - loss: 0.5630 - acc: 0.7854 - val_loss: 0.6371 - val_acc: 0.7718\n",
      "Epoch 47/50\n",
      "721/721 [==============================] - 309s 428ms/step - loss: 0.5714 - acc: 0.7800 - val_loss: 0.6351 - val_acc: 0.7756\n",
      "Epoch 48/50\n",
      "721/721 [==============================] - 309s 428ms/step - loss: 0.5648 - acc: 0.7857 - val_loss: 0.6343 - val_acc: 0.7768\n",
      "Epoch 49/50\n",
      "721/721 [==============================] - 309s 428ms/step - loss: 0.5639 - acc: 0.7888 - val_loss: 0.6361 - val_acc: 0.7743\n",
      "Epoch 50/50\n",
      "721/721 [==============================] - 308s 428ms/step - loss: 0.5731 - acc: 0.7836 - val_loss: 0.6347 - val_acc: 0.7731\n"
     ]
    }
   ],
   "source": [
    "epochs = 50 \n",
    "batch_size = 10\n",
    "history = model.fit_generator(datagen.flow(x_train,y_train, batch_size=batch_size),\n",
    "                              epochs = epochs, validation_data = (x_validate,y_validate),\n",
    "                              verbose = 1, steps_per_epoch=x_train.shape[0] // batch_size\n",
    "                              , callbacks=[learning_rate_reduction])"
   ]
  },
  {
   "cell_type": "code",
   "execution_count": 0,
   "metadata": {
    "colab": {
     "base_uri": "https://localhost:8080/",
     "height": 36
    },
    "colab_type": "code",
    "id": "B1pcm34wBs0m",
    "outputId": "ed9b2e48-c877-4d83-810e-d96c531bd8cc"
   },
   "outputs": [
    {
     "data": {
      "text/plain": [
       "(75, 100, 3)"
      ]
     },
     "execution_count": 58,
     "metadata": {
      "tags": []
     },
     "output_type": "execute_result"
    }
   ],
   "source": [
    "x_train[0].shape\n"
   ]
  },
  {
   "cell_type": "code",
   "execution_count": 0,
   "metadata": {
    "colab": {},
    "colab_type": "code",
    "collapsed": true,
    "id": "mDvtkwWp9e0O"
   },
   "outputs": [],
   "source": [
    "x = x_test[0]"
   ]
  },
  {
   "cell_type": "code",
   "execution_count": 0,
   "metadata": {
    "colab": {
     "base_uri": "https://localhost:8080/",
     "height": 36
    },
    "colab_type": "code",
    "id": "8OhyRz7g9hje",
    "outputId": "dc78b85f-5b92-4482-91d8-6875908999e3"
   },
   "outputs": [
    {
     "data": {
      "text/plain": [
       "(2003, 75, 100, 3)"
      ]
     },
     "execution_count": 63,
     "metadata": {
      "tags": []
     },
     "output_type": "execute_result"
    }
   ],
   "source": [
    "x_test.shape"
   ]
  },
  {
   "cell_type": "code",
   "execution_count": 0,
   "metadata": {
    "colab": {
     "base_uri": "https://localhost:8080/",
     "height": 36
    },
    "colab_type": "code",
    "id": "P7P_opvD9ivM",
    "outputId": "59b59131-1db9-4942-d07d-9650ceb5cdc0"
   },
   "outputs": [
    {
     "data": {
      "text/plain": [
       "(75, 100, 3)"
      ]
     },
     "execution_count": 64,
     "metadata": {
      "tags": []
     },
     "output_type": "execute_result"
    }
   ],
   "source": [
    "x_test[0].shape"
   ]
  },
  {
   "cell_type": "code",
   "execution_count": 0,
   "metadata": {
    "colab": {
     "base_uri": "https://localhost:8080/",
     "height": 36
    },
    "colab_type": "code",
    "id": "cR1QsAyh9uNu",
    "outputId": "b89f3fcd-625b-4438-b063-4e0880d2dc1f"
   },
   "outputs": [
    {
     "data": {
      "text/plain": [
       "<keras.callbacks.History at 0x7f1d951d12e8>"
      ]
     },
     "execution_count": 65,
     "metadata": {
      "tags": []
     },
     "output_type": "execute_result"
    }
   ],
   "source": [
    "history"
   ]
  },
  {
   "cell_type": "code",
   "execution_count": 0,
   "metadata": {
    "colab": {},
    "colab_type": "code",
    "collapsed": true,
    "id": "hRnkXiaxA0kk"
   },
   "outputs": [],
   "source": [
    "x = x_test[0]\n"
   ]
  },
  {
   "cell_type": "code",
   "execution_count": 0,
   "metadata": {
    "colab": {},
    "colab_type": "code",
    "collapsed": true,
    "id": "ZUmcMjg-BGYa"
   },
   "outputs": [],
   "source": [
    "x = np.asarray([x])"
   ]
  },
  {
   "cell_type": "code",
   "execution_count": 0,
   "metadata": {
    "colab": {
     "base_uri": "https://localhost:8080/",
     "height": 54
    },
    "colab_type": "code",
    "id": "op6Q9777BJM_",
    "outputId": "d7bbb23f-ed0a-4254-ff2d-32b655005cce"
   },
   "outputs": [
    {
     "data": {
      "text/plain": [
       "array([[1.3855526e-08, 9.2476125e-07, 1.4183602e-03, 2.5556888e-04,\n",
       "        9.9831712e-01, 7.9704087e-06, 1.5015532e-07]], dtype=float32)"
      ]
     },
     "execution_count": 91,
     "metadata": {
      "tags": []
     },
     "output_type": "execute_result"
    }
   ],
   "source": [
    "model.predict(x)"
   ]
  },
  {
   "cell_type": "code",
   "execution_count": null,
   "metadata": {
    "colab": {
     "base_uri": "https://localhost:8080/",
     "height": 166
    },
    "colab_type": "code",
    "collapsed": true,
    "id": "bSKvlKpEByk7",
    "outputId": "50d66c84-3888-43d3-b69c-86d9d8bea815"
   },
   "outputs": [],
   "source": [
    "model.save('sample_data/model1.h5')"
   ]
  },
  {
   "cell_type": "code",
   "execution_count": 0,
   "metadata": {
    "colab": {},
    "colab_type": "code",
    "collapsed": true,
    "id": "ZWQqSMaaTWfa"
   },
   "outputs": [],
   "source": [
    "c = c.tolist()"
   ]
  },
  {
   "cell_type": "code",
   "execution_count": 0,
   "metadata": {
    "colab": {
     "base_uri": "https://localhost:8080/",
     "height": 139
    },
    "colab_type": "code",
    "id": "kVy3n9SqTXA-",
    "outputId": "1155ba84-67c8-4107-a6d0-85418add7a47"
   },
   "outputs": [
    {
     "data": {
      "text/plain": [
       "[5.136232772429139e-08,\n",
       " 1.5315208656829782e-05,\n",
       " 0.02202741801738739,\n",
       " 4.8284440708812326e-05,\n",
       " 0.9764699339866638,\n",
       " 0.0014389510033652186,\n",
       " 4.054749069837271e-08]"
      ]
     },
     "execution_count": 223,
     "metadata": {
      "tags": []
     },
     "output_type": "execute_result"
    }
   ],
   "source": [
    "c"
   ]
  },
  {
   "cell_type": "code",
   "execution_count": 0,
   "metadata": {
    "colab": {
     "base_uri": "https://localhost:8080/",
     "height": 34
    },
    "colab_type": "code",
    "id": "3_qdy_8_TbAQ",
    "outputId": "22240a5c-5693-4b45-b93b-c97c87f4ebdf"
   },
   "outputs": [
    {
     "data": {
      "text/plain": [
       "0.9764699339866638"
      ]
     },
     "execution_count": 224,
     "metadata": {
      "tags": []
     },
     "output_type": "execute_result"
    }
   ],
   "source": [
    "max(c)"
   ]
  },
  {
   "cell_type": "code",
   "execution_count": 0,
   "metadata": {
    "colab": {
     "base_uri": "https://localhost:8080/",
     "height": 34
    },
    "colab_type": "code",
    "id": "ShL1bjp3TcPa",
    "outputId": "b81b4b4d-93b8-4841-c091-d6feb6305f66"
   },
   "outputs": [
    {
     "data": {
      "text/plain": [
       "4"
      ]
     },
     "execution_count": 225,
     "metadata": {
      "tags": []
     },
     "output_type": "execute_result"
    }
   ],
   "source": [
    "c.index(max(c))"
   ]
  },
  {
   "cell_type": "code",
   "execution_count": 0,
   "metadata": {
    "colab": {
     "base_uri": "https://localhost:8080/",
     "height": 34
    },
    "colab_type": "code",
    "id": "OA39YcknTf33",
    "outputId": "5b92ef8e-1f1d-4d68-f908-016e70827abb"
   },
   "outputs": [
    {
     "data": {
      "text/plain": [
       "(75, 100, 3)"
      ]
     },
     "execution_count": 227,
     "metadata": {
      "tags": []
     },
     "output_type": "execute_result"
    }
   ],
   "source": [
    "x_train[0].shape"
   ]
  },
  {
   "cell_type": "code",
   "execution_count": 0,
   "metadata": {
    "colab": {
     "base_uri": "https://localhost:8080/",
     "height": 34
    },
    "colab_type": "code",
    "id": "OoNfKQ2NTwVW",
    "outputId": "e92a3868-958a-4a18-cd31-0cd3e705d41c"
   },
   "outputs": [
    {
     "data": {
      "text/plain": [
       "pandas.core.frame.DataFrame"
      ]
     },
     "execution_count": 231,
     "metadata": {
      "tags": []
     },
     "output_type": "execute_result"
    }
   ],
   "source": [
    "type(skin_df)"
   ]
  },
  {
   "cell_type": "code",
   "execution_count": null,
   "metadata": {
    "colab": {
     "base_uri": "https://localhost:8080/",
     "height": 332
    },
    "colab_type": "code",
    "collapsed": true,
    "id": "Ew9y2KorUdZY",
    "outputId": "3987cffb-740d-46b7-ff95-b1b1870798e0"
   },
   "outputs": [],
   "source": [
    "skin_df.to_csv('/sample_data/skin.csv')"
   ]
  },
  {
   "cell_type": "code",
   "execution_count": 0,
   "metadata": {
    "colab": {},
    "colab_type": "code",
    "collapsed": true,
    "id": "qOHaetrbU0nd"
   },
   "outputs": [],
   "source": []
  }
 ],
 "metadata": {
  "colab": {
   "name": "MelenamoDetection.ipynb",
   "provenance": [],
   "toc_visible": true
  },
  "kernelspec": {
   "display_name": "Python 3",
   "language": "python",
   "name": "python3"
  },
  "language_info": {
   "codemirror_mode": {
    "name": "ipython",
    "version": 2
   },
   "file_extension": ".py",
   "mimetype": "text/x-python",
   "name": "python",
   "nbconvert_exporter": "python",
   "pygments_lexer": "ipython2",
   "version": "2.7.14"
  }
 },
 "nbformat": 4,
 "nbformat_minor": 1
}
